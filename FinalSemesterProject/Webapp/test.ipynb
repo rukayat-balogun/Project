{
 "cells": [
  {
   "cell_type": "code",
   "execution_count": null,
   "metadata": {},
   "outputs": [],
   "source": [
    "q = float(input('What is your BMI:'))\n",
    "\n",
    "q2 =  float(input('What is your height:'))\n",
    "\n",
    "q3 = float(input('What is your weight:'))\n",
    "\n",
    "response = input(\"Do you know your BMI: \")\n",
    "\n",
    "def prompt(response):\n",
    "   \n",
    "\n",
    "    if response == \"Yes\":\n",
    "        q = float(input('What is your BMI:'))\n",
    "    else:\n",
    "        q2 =  float(input('What is your height:'))\n",
    "\n",
    "        q3 = float(input('What is your weight:'))\n",
    "\n",
    "prompt(response)\n",
    "\n",
    "\n"
   ]
  }
 ],
 "metadata": {
  "language_info": {
   "name": "python"
  }
 },
 "nbformat": 4,
 "nbformat_minor": 2
}
