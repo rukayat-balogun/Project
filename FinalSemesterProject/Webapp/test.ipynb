{
 "cells": [
  {
   "cell_type": "code",
   "execution_count": 3,
   "metadata": {},
   "outputs": [],
   "source": [
    "import pandas as pd\n",
    "\n",
    "df = pd.read_csv(\"/Users/whitegg/Documents/GitHub/Project/FinalSemesterProject/ehact_2014.csv\")\n",
    "\n",
    "def check_missing_values(df=df):\n",
    "    \"\"\"Returns the count of missing values per column.\"\"\"\n",
    "    return df.isnull().sum()\n",
    "\n",
    "\n",
    "\n",
    "def check_data_types(df, expected_types):\n",
    "    \"\"\"Checks if columns have the expected data types.\"\"\"\n",
    "    mismatches = {}\n",
    "    for column, expected_type in expected_types.items():\n",
    "        if df[column].dtype != expected_type:\n",
    "            mismatches[column] = df[column].dtype\n",
    "    return mismatches\n",
    "\n",
    "\n",
    "from scipy import stats\n",
    "\n",
    "def check_outliers(df, column):\n",
    "    \"\"\"Identifies outliers in a specified column using z-scores.\"\"\"\n",
    "    z_scores = stats.zscore(df[column])\n",
    "    outliers = df[(abs(z_scores) > 3)]\n",
    "    return outliers\n",
    "\n",
    "\n",
    "def check_duplicates(df):\n",
    "    \"\"\"Returns the number of duplicate rows.\"\"\"\n",
    "    return df.duplicated().sum()\n",
    "\n",
    "\n",
    "def check_range(df, column, min_val, max_val):\n",
    "    \"\"\"Checks if values in a column fall within a specified range.\"\"\"\n",
    "    out_of_range = df[(df[column] < min_val) | (df[column] > max_val)]\n",
    "    return out_of_range\n",
    "\n",
    "\n",
    "def generate_quality_report(df):\n",
    "    \"\"\"Runs all quality checks and compiles results into a report.\"\"\"\n",
    "    report = {\n",
    "        'missing_values': check_missing_values(df),\n",
    "        'data_type_mismatches': check_data_types(df, {'age': 'int64', 'salary': 'float64'}),\n",
    "        'outliers_age': check_outliers(df, 'age'),\n",
    "        'duplicate_count': check_duplicates(df)\n",
    "    }\n",
    "    return report\n",
    "\n",
    "\n",
    "def save_report(report, filename='data_quality_report.csv'):\n",
    "    report_df = pd.DataFrame.from_dict(report, orient='index')\n",
    "    report_df.to_csv(filename)\n"
   ]
  },
  {
   "cell_type": "code",
   "execution_count": 4,
   "metadata": {},
   "outputs": [
    {
     "data": {
      "text/plain": [
       "tucaseid        0\n",
       "tuactivity_n    0\n",
       "eueatsum        0\n",
       "euedur          0\n",
       "euedur24        0\n",
       "dtype: int64"
      ]
     },
     "execution_count": 4,
     "metadata": {},
     "output_type": "execute_result"
    }
   ],
   "source": [
    "check_missing_values()"
   ]
  },
  {
   "cell_type": "code",
   "execution_count": 7,
   "metadata": {},
   "outputs": [
    {
     "ename": "TypeError",
     "evalue": "check_data_types() missing 1 required positional argument: 'expected_types'",
     "output_type": "error",
     "traceback": [
      "\u001b[0;31m---------------------------------------------------------------------------\u001b[0m",
      "\u001b[0;31mTypeError\u001b[0m                                 Traceback (most recent call last)",
      "Cell \u001b[0;32mIn[7], line 1\u001b[0m\n\u001b[0;32m----> 1\u001b[0m \u001b[43mcheck_data_types\u001b[49m\u001b[43m(\u001b[49m\u001b[43mdf\u001b[49m\u001b[43m)\u001b[49m\n",
      "\u001b[0;31mTypeError\u001b[0m: check_data_types() missing 1 required positional argument: 'expected_types'"
     ]
    }
   ],
   "source": [
    "check_data_types(df)"
   ]
  },
  {
   "cell_type": "code",
   "execution_count": null,
   "metadata": {},
   "outputs": [],
   "source": []
  }
 ],
 "metadata": {
  "kernelspec": {
   "display_name": "myenv",
   "language": "python",
   "name": "python3"
  },
  "language_info": {
   "codemirror_mode": {
    "name": "ipython",
    "version": 3
   },
   "file_extension": ".py",
   "mimetype": "text/x-python",
   "name": "python",
   "nbconvert_exporter": "python",
   "pygments_lexer": "ipython3",
   "version": "3.9.6"
  }
 },
 "nbformat": 4,
 "nbformat_minor": 2
}
